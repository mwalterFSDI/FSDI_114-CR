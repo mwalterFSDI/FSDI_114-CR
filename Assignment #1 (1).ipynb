{
 "cells": [
  {
   "cell_type": "code",
   "execution_count": 2,
   "id": "b8df9ade",
   "metadata": {},
   "outputs": [
    {
     "name": "stdout",
     "output_type": "stream",
     "text": [
      "h\n",
      "e\n",
      "l\n",
      "l\n",
      "o\n",
      ",\n",
      " \n",
      "w\n",
      "o\n",
      "r\n",
      "l\n",
      "d\n"
     ]
    }
   ],
   "source": [
    "for letter in \"hello, world\":\n",
    "    print(letter)"
   ]
  },
  {
   "cell_type": "markdown",
   "id": "031bb7c9",
   "metadata": {},
   "source": [
    "# Problem 1\n",
    "### Given two strings(string_a and string_b) let's check whether or not they are anagrams of each other given the following criteria\n",
    ">Two strings are only anagrams of each other if all conditions below are met:\n",
    "> * they must be exactly the same length.\n",
    "> * They must use exactly the same characters (no more, no less).\n",
    "Example: cars and scar, heart and earth, etc."
   ]
  },
  {
   "cell_type": "code",
   "execution_count": 5,
   "id": "ef439eab",
   "metadata": {},
   "outputs": [],
   "source": [
    "def is_anagram(string_a, string_b):                         \n",
    "    if len(string_a) != len(string_b):\n",
    "        return False\n",
    "    char_times_a = dict()\n",
    "    char_times_b = dict()\n",
    "    for i in range(len(string_a)):\n",
    "        if string_a[i] not in char_times_a.keys():\n",
    "            char_times_a[string_a[i]] = 0\n",
    "        else:\n",
    "            char_times_a[string_a[i]] += 1\n",
    "        if string_b[i] not in char_times_b.keys():\n",
    "            char_times_b[string_b[i]] = 0\n",
    "        else:\n",
    "            char_times_b[string_b[i]] += 1\n",
    "    return char_times_a == char_times_b"
   ]
  },
  {
   "cell_type": "code",
   "execution_count": 6,
   "id": "3fc93e2b",
   "metadata": {},
   "outputs": [
    {
     "data": {
      "text/plain": [
       "True"
      ]
     },
     "execution_count": 6,
     "metadata": {},
     "output_type": "execute_result"
    }
   ],
   "source": [
    "is_anagram(\"cars\", \"scar\")"
   ]
  },
  {
   "cell_type": "code",
   "execution_count": 7,
   "id": "c7c7e58f",
   "metadata": {},
   "outputs": [
    {
     "data": {
      "text/plain": [
       "False"
      ]
     },
     "execution_count": 7,
     "metadata": {},
     "output_type": "execute_result"
    }
   ],
   "source": [
    "is_anagram(\"sccr\", \"scar\")"
   ]
  },
  {
   "cell_type": "code",
   "execution_count": 8,
   "id": "dc70bde1",
   "metadata": {},
   "outputs": [
    {
     "data": {
      "text/plain": [
       "False"
      ]
     },
     "execution_count": 8,
     "metadata": {},
     "output_type": "execute_result"
    }
   ],
   "source": [
    "is_anagram(\"Voldemort\", \"Tom Marvolo Riddle\")"
   ]
  },
  {
   "cell_type": "code",
   "execution_count": 10,
   "id": "74b1c02b",
   "metadata": {},
   "outputs": [
    {
     "data": {
      "text/plain": [
       "False"
      ]
     },
     "execution_count": 10,
     "metadata": {},
     "output_type": "execute_result"
    }
   ],
   "source": [
    "is_anagram(\"I am lord voldemort\", \"Tom Marvolo Riddle\")"
   ]
  },
  {
   "cell_type": "code",
   "execution_count": 11,
   "id": "2a808182",
   "metadata": {},
   "outputs": [],
   "source": [
    "class Stack:\n",
    "    def __init__(self):\n",
    "        self.items = []\n",
    "        \n",
    "    def is_empty(self):\n",
    "        return self.items == []\n",
    "    \n",
    "    def push(self, item):\n",
    "        self.items.append(item)\n",
    "    \n",
    "    def pop(self):\n",
    "        return self.items.pop()\n",
    "    \n",
    "    def peek(self):\n",
    "        return self.items[len(self.items)-1]\n",
    "    \n",
    "    def size(self):\n",
    "        return len(self.items)\n",
    "        \n",
    "        "
   ]
  },
  {
   "cell_type": "code",
   "execution_count": 38,
   "id": "5f6af3c9",
   "metadata": {},
   "outputs": [],
   "source": [
    "def reverse_str(s):\n",
    "    stack = Stack()\n",
    "    for char in s:\n",
    "        stack.push(char)\n",
    "    tempstr = \"\"\n",
    "    while not stack.is_empty():\n",
    "        tempstr += stack.pop()\n",
    "    return tempstr\n",
    "    "
   ]
  },
  {
   "cell_type": "code",
   "execution_count": 39,
   "id": "2f421241",
   "metadata": {},
   "outputs": [],
   "source": [
    "def test_reverse_str():\n",
    "    assert reverse_str(\"racecar\") == reverse_str(\"racecar\")\n",
    "    assert reverse_str(\"SDGKU\") == reverse_str(\"UKGDS\")\n",
    "    assert reverse_str(\"ping pong\") == reverse_str(\"gnop gnip\")"
   ]
  },
  {
   "cell_type": "code",
   "execution_count": 40,
   "id": "3cad0c6b",
   "metadata": {},
   "outputs": [],
   "source": [
    "class Queue:\n",
    "    def __init__(self):\n",
    "        self.items = []\n",
    "        \n",
    "    def is_empty(self):\n",
    "        return self.items == []\n",
    "    \n",
    "    def enqueue(self, item):\n",
    "        self.items.insert(0, item)\n",
    "        \n",
    "    def dequeue(self):\n",
    "        return self.items.pop()\n",
    "    \n",
    "    def size(self):\n",
    "        return len(self.items)\n",
    "        \n",
    "        "
   ]
  },
  {
   "cell_type": "code",
   "execution_count": 41,
   "id": "2dae6c95",
   "metadata": {},
   "outputs": [],
   "source": [
    "from string import ascii_lowercase\n",
    "from random import randint, choice\n",
    "from time import sleep\n",
    "\n",
    "def register_visitors(visitor_queue):\n",
    "    for char in ascii_lowercase:\n",
    "        visitor_queue.enqueue(char)\n",
    "        \n",
    "def service_customers(visitor_queue):\n",
    "    bank_tellers = [\"A\", \"B\", \"C\", \"D\", \"E\",  \"F\", \"G\"]\n",
    "    while not visitor_queue.is_empty():\n",
    "        visitor = visitor_queue.dequeue()\n",
    "        print(\"Thank you for waiting %s, station %s is ready for you.\"\n",
    "                % (visitor, choice(bank_tellers)))\n",
    "    print(\"Empty visitor queue.\")\n",
    "    \n",
    "def main():\n",
    "    visitor_queue = Queue()\n",
    "    register_visitors(visitor_queue)\n",
    "    service_customers(visitor_queue)"
   ]
  },
  {
   "cell_type": "code",
   "execution_count": 37,
   "id": "f466ca46",
   "metadata": {},
   "outputs": [
    {
     "name": "stdout",
     "output_type": "stream",
     "text": [
      "Thank you for waiting a, station G is ready for you.\n",
      "Thank you for waiting b, station C is ready for you.\n",
      "Thank you for waiting c, station D is ready for you.\n",
      "Thank you for waiting d, station E is ready for you.\n",
      "Thank you for waiting e, station G is ready for you.\n",
      "Thank you for waiting f, station A is ready for you.\n",
      "Thank you for waiting g, station G is ready for you.\n",
      "Thank you for waiting h, station F is ready for you.\n",
      "Thank you for waiting i, station E is ready for you.\n",
      "Thank you for waiting j, station G is ready for you.\n",
      "Thank you for waiting k, station C is ready for you.\n",
      "Thank you for waiting l, station E is ready for you.\n",
      "Thank you for waiting m, station A is ready for you.\n",
      "Thank you for waiting n, station C is ready for you.\n",
      "Thank you for waiting o, station D is ready for you.\n",
      "Thank you for waiting p, station B is ready for you.\n",
      "Thank you for waiting q, station A is ready for you.\n",
      "Thank you for waiting r, station F is ready for you.\n",
      "Thank you for waiting s, station B is ready for you.\n",
      "Thank you for waiting t, station F is ready for you.\n",
      "Thank you for waiting u, station B is ready for you.\n",
      "Thank you for waiting v, station C is ready for you.\n",
      "Thank you for waiting w, station B is ready for you.\n",
      "Thank you for waiting x, station E is ready for you.\n",
      "Thank you for waiting y, station D is ready for you.\n",
      "Thank you for waiting z, station C is ready for you.\n",
      "Empty visitor queue.\n"
     ]
    }
   ],
   "source": [
    "main()"
   ]
  },
  {
   "cell_type": "code",
   "execution_count": 48,
   "id": "2746a088",
   "metadata": {},
   "outputs": [],
   "source": [
    "def balance_check(s):\n",
    "    if len(s)%2 != 0:\n",
    "        return False\n",
    "    opening = set(\"([{\")\n",
    "    matches = set([(\"(\", \")\"), (\"[\", \"]\"), (\"{\", \"}\")])\n",
    "    stack = Stack()\n",
    "    for paren in s:\n",
    "        if paren in opening:\n",
    "            stack.push(paren)\n",
    "        else:\n",
    "            if stack.is_empty():\n",
    "                return False\n",
    "            last_open = stack.pop()\n",
    "            if (last_open, paren) not in matches:\n",
    "                return False\n",
    "    \n",
    "    return stack.is_empty()\n",
    "            "
   ]
  },
  {
   "cell_type": "code",
   "execution_count": 49,
   "id": "0b0d14ef",
   "metadata": {},
   "outputs": [
    {
     "data": {
      "text/plain": [
       "True"
      ]
     },
     "execution_count": 49,
     "metadata": {},
     "output_type": "execute_result"
    }
   ],
   "source": [
    "balance_check(\"([{([])}])\")\n"
   ]
  },
  {
   "cell_type": "code",
   "execution_count": null,
   "id": "9d96d865",
   "metadata": {},
   "outputs": [],
   "source": []
  }
 ],
 "metadata": {
  "kernelspec": {
   "display_name": "Python 3",
   "language": "python",
   "name": "python3"
  },
  "language_info": {
   "codemirror_mode": {
    "name": "ipython",
    "version": 3
   },
   "file_extension": ".py",
   "mimetype": "text/x-python",
   "name": "python",
   "nbconvert_exporter": "python",
   "pygments_lexer": "ipython3",
   "version": "3.8.5"
  }
 },
 "nbformat": 4,
 "nbformat_minor": 5
}
